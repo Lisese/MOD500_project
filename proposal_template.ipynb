{
 "cells": [
  {
   "cell_type": "markdown",
   "metadata": {},
   "source": [
    "# Project Proposal\n",
    "\n",
    "## Team Information\n",
    "- Name 1: Lise Eiane\n",
    "- Student Number 1: 269476\n",
    "- Email 1: l.eiane@stud.uis.no\n",
    "- Name 2: Simen Fiske Kvande\n",
    "- Student Number 2: 242623\n",
    "- Email 2: s.kvande@stud.uis.no\n",
    "\n",
    "## Fjord vanlife\n",
    "Camping in a van is a good way to explore the nature, outdoors activities and attractions in the local area. Tourists visiting this area of the country often want to visit nature attractions outside the city.\n",
    "\n",
    "## Problem Description\n",
    "[Provide a brief description of the decision context and the problem you're addressing]\n",
    "\n",
    "## Main Objectives\n",
    "* Investigate if there is a potential market for renting out campervans in this area\n",
    "* \"Main objective: To establish company or not (If establish, how many cars)\\n\",\n",
    "    \"\\n\",\n",
    "    \"- Cars:\\n\",\n",
    "    \"    Cost of acquiring\\n\",\n",
    "    \"    Cost of service\\n\",\n",
    "    \"    Expected life\\n\",\n",
    "    \"    Storage location\\n\",\n",
    "    \"    Alternative uses (e.g. \\\"Surfer Pack\\\", \\\"Hiking Spec\\\", \\\"Pulpit Rock Enthusiast\\\")\\n\",\n",
    "    \"\\n\",\n",
    "    \"- Weather Seasons (værdata)\\n\",\n",
    "    \"\\n\",\n",
    "    \"- Tourist Seasons (turistdata)\\n\",\n",
    "\n",
    "## Possible Alternatives\n",
    "[Outline the potential alternatives or options for addressing the problem]\n",
    "- Different levels of equity (\"Invest Value 1\", \"Invest Value 2\" or \"Not invest\")\n",
    "\n",
    "## Major Uncertainties\n",
    "[Identify and describe the major uncertainties involved in the decision context]\n",
    "- Weather\n",
    "- Epidemic/pandemic incidents(?), major decrease in tourists (potential revenue) 2020-2022\n",
    "- Car lifetime\n",
    "\n",
    "## Possible Sources of Data/Information\n",
    "[List potential sources of data or information you plan to use]\n",
    "- Yr/Storm\n",
    "- SSB\n",
    "- https://www.unwto.org/tourism-data/un-tourism-tracker\n",
    "\n",
    "## Integration of AI and ML in the DA/DQ Process\n",
    "[Describe how you plan to integrate AI and Machine Learning into the Decision Analysis/Decision Quality process]\n"
   ]
  },
  {
   "cell_type": "markdown",
   "metadata": {},
   "source": []
  }
 ],
 "metadata": {
  "kernelspec": {
   "display_name": "Python 3",
   "language": "python",
   "name": "python3"
  },
  "language_info": {
   "codemirror_mode": {
    "name": "ipython",
    "version": 3
   },
   "file_extension": ".py",
   "mimetype": "text/x-python",
   "name": "python",
   "nbconvert_exporter": "python",
   "pygments_lexer": "ipython3",
   "version": "3.8.5"
  }
 },
 "nbformat": 4,
 "nbformat_minor": 4
}
