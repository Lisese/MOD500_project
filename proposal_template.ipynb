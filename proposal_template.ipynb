{
 "cells": [
  {
   "cell_type": "markdown",
   "metadata": {},
   "source": [
    "# Project Proposal\n",
    "\n",
    "## Team Information\n",
    "- Name 1: Lise Eiane\n",
    "- Student Number 1: 269476\n",
    "- Email 1: l.eiane@stud.uis.no\n",
    "- Name 2: Simen Fiske Kvande\n",
    "- Student Number 2: 242623\n",
    "- Email 2: s.kvande@stud.uis.no\n",
    "\n",
    "## Hei hei\n",
    "Dette er vårt\n",
    "\n",
    "## Problem Description\n",
    "[Provide a brief description of the decision context and the problem you're addressing]\n",
    "\n",
    "## Main Objectives\n",
    "Main objective: To establish company or not (If establish, how many cars)\n",
    "\n",
    "- Cars:\n",
    "    Cost of acquiring\n",
    "    Cost of service\n",
    "    Expected life\n",
    "    Storage location\n",
    "    Alternative uses (e.g. \"Surfer Pack\", \"Hiking Spec\", \"Pulpit Rock Enthusiast\")\n",
    "\n",
    "- Weather Seasons (værdata)\n",
    "\n",
    "- Tourist Seasons (turistdata)\n",
    "\n",
    "## Possible Alternatives\n",
    "[Outline the potential alternatives or options for addressing the problem]\n",
    "\n",
    "## Major Uncertainties\n",
    "[Identify and describe the major uncertainties involved in the decision context]\n",
    "\n",
    "## Possible Sources of Data/Information\n",
    "[List potential sources of data or information you plan to use]\n",
    "\n",
    "## Integration of AI and ML in the DA/DQ Process\n",
    "[Describe how you plan to integrate AI and Machine Learning into the Decision Analysis/Decision Quality process]\n"
   ]
  },
  {
   "cell_type": "markdown",
   "metadata": {},
   "source": []
  }
 ],
 "metadata": {
  "kernelspec": {
   "display_name": "Python 3",
   "language": "python",
   "name": "python3"
  },
  "language_info": {
   "codemirror_mode": {
    "name": "ipython",
    "version": 3
   },
   "file_extension": ".py",
   "mimetype": "text/x-python",
   "name": "python",
   "nbconvert_exporter": "python",
   "pygments_lexer": "ipython3",
   "version": "3.8.5"
  }
 },
 "nbformat": 4,
 "nbformat_minor": 4
}
