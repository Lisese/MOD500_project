{
 "cells": [
  {
   "cell_type": "markdown",
   "metadata": {},
   "source": [
    "# Project Proposal\n",
    "\n",
    "## Team Information\n",
    "- Name 1: Lise Eiane\n",
    "- Student Number 1: 269476\n",
    "- Email 1: l.eiane@stud.uis.no\n",
    "- Name 2: Simen Fiske Kvande\n",
    "- Student Number 2: 242623\n",
    "- Email 2: s.kvande@stud.uis.no\n",
    "\n",
    "## Fjord vanlife\n",
    "Camping in a van is a good way to explore the nature, outdoors activities and attractions in the local area. Tourists visiting this area of the country often want to visit nature attractions outside the city.\n",
    "\n",
    "## Problem Description\n",
    "[Provide a brief description of the decision context and the problem you're addressing]\n",
    "\n",
    "## Main Objectives\n",
    "* Investigate if there is a potential market for renting out campervans in this area\n",
    "* \n",
    "\n",
    "## Possible Alternatives\n",
    "[Outline the potential alternatives or options for addressing the problem]\n",
    "\n",
    "## Major Uncertainties\n",
    "[Identify and describe the major uncertainties involved in the decision context]\n",
    "\n",
    "## Possible Sources of Data/Information\n",
    "[List potential sources of data or information you plan to use]\n",
    "\n",
    "## Integration of AI and ML in the DA/DQ Process\n",
    "[Describe how you plan to integrate AI and Machine Learning into the Decision Analysis/Decision Quality process]\n"
   ]
  },
  {
   "cell_type": "markdown",
   "metadata": {},
   "source": []
  }
 ],
 "metadata": {
  "kernelspec": {
   "display_name": "Python 3",
   "language": "python",
   "name": "python3"
  },
  "language_info": {
   "codemirror_mode": {
    "name": "ipython",
    "version": 3
   },
   "file_extension": ".py",
   "mimetype": "text/x-python",
   "name": "python",
   "nbconvert_exporter": "python",
   "pygments_lexer": "ipython3",
   "version": "3.8.5"
  }
 },
 "nbformat": 4,
 "nbformat_minor": 4
}
