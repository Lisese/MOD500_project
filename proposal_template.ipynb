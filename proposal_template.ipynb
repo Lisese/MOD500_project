{
 "cells": [
  {
   "cell_type": "markdown",
   "metadata": {},
   "source": [
    "# Project Proposal\n",
    "\n",
    "## Team Information\n",
    "- Name 1: [Your Name]\n",
    "- Student Number 1: [Your Student Number]\n",
    "- Email 1: [Your Email]\n",
    "- Name 2: [Your Partner's Name]\n",
    "- Student Number 2: [Your Partner's Student Number]\n",
    "- Email 2: [Your Partner's Email]\n",
    "\n",
    "## Project Title\n",
    "[Your tentative project title]\n",
    "\n",
    "## Problem Description\n",
    "[Provide a brief description of the decision context and the problem you're addressing]\n",
    "\n",
    "## Main Objectives\n",
    "[List the main objectives of your project]\n",
    "\n",
    "## Possible Alternatives\n",
    "[Outline the potential alternatives or options for addressing the problem]\n",
    "\n",
    "## Major Uncertainties\n",
    "[Identify and describe the major uncertainties involved in the decision context]\n",
    "\n",
    "## Possible Sources of Data/Information\n",
    "[List potential sources of data or information you plan to use]\n",
    "\n",
    "## Integration of AI and ML in the DA/DQ Process\n",
    "[Describe how you plan to integrate AI and Machine Learning into the Decision Analysis/Decision Quality process]\n"
   ]
  }
 ],
 "metadata": {
  "kernelspec": {
   "display_name": "Python 3",
   "language": "python",
   "name": "python3"
  },
  "language_info": {
   "codemirror_mode": {
    "name": "ipython",
    "version": 3
   },
   "file_extension": ".py",
   "mimetype": "text/x-python",
   "name": "python",
   "nbconvert_exporter": "python",
   "pygments_lexer": "ipython3",
   "version": "3.8.5"
  }
 },
 "nbformat": 4,
 "nbformat_minor": 4
}