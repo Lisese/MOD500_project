{
 "cells": [
  {
   "cell_type": "markdown",
   "metadata": {},
   "source": [
    "# Project Proposal"
   ]
  },
  {
   "cell_type": "markdown",
   "metadata": {},
   "source": [
    "## Team Information\n",
    "\n",
    "- Name 1: Lise Eiane\n",
    "- Student Number 1: 269476\n",
    "- Email 1: l.eiane@stud.uis.no\n",
    "- Name 2: Simen Fiske Kvande\n",
    "- Student Number 2: 242623\n",
    "- Email 2: s.kvande@stud.uis.no"
   ]
  },
  {
   "cell_type": "markdown",
   "metadata": {},
   "source": [
    "## Fjord Vanlife: Campervan Rental in Stavanger\n",
    "\n",
    "Traveling in a campervan is an excellent way to explore nature, outdoor activities, and attractions in the local area. Tourists visiting the Stavanger region often want to experience nature attractions outside the city. A van containing the necessary equipment and furniture for overnight stays can be a good and less expensive option for tourists. However, there are currently no established rental companies for campervans in the nearby area."
   ]
  },
  {
   "cell_type": "markdown",
   "metadata": {},
   "source": [
    "## Problem Description\n",
    "\n",
    "This project aims to analyze the commercial viability of a campervan rental company in the Stavanger area. The focus will be on determining if such a business can be profitable and, if so, what would be the optimal investment capital for a successful start-up. This decision context requires a comprehensive analysis of market conditions, financial projections, and risk assessment, making it suitable for applying decision analysis processes and modeling techniques."
   ]
  },
  {
   "cell_type": "markdown",
   "metadata": {},
   "source": [
    "## Main Objectives\n",
    "\n",
    "1. Investigate the potential market for renting out campervans in the Stavanger area\n",
    "2. Determine the optimal investment capital for a successful start-up\n",
    "3. Assess the profitability and sustainability of the business model\n",
    "4. Identify the best operational strategies (e.g., fleet size, pricing, marketing)\n",
    "5. Evaluate the impact of seasonal variations on the business"
   ]
  },
  {
   "cell_type": "markdown",
   "metadata": {},
   "source": [
    "## Possible Alternatives\n",
    "\n",
    "1. Day rate of the campervans (e.g., budget, mid-range, luxury pricing)\n",
    "2. Number of campervans to invest in (e.g., small fleet of 5, medium fleet of 10, large fleet of 20)\n",
    "3. Types of campervans (e.g., compact, family-sized, luxury)\n",
    "4. Operational model (e.g., year-round operation, seasonal operation)\n",
    "5. Additional services (e.g., airport pickup, tour packages, equipment rental)\n",
    "6. Marketing strategies (e.g., focus on domestic market, international tourists, or both)\n",
    "7. Partnerships with local tourism businesses or campsites"
   ]
  },
  {
   "cell_type": "markdown",
   "metadata": {},
   "source": [
    "## Major Uncertainties\n",
    "\n",
    "1. Weather conditions and their impact on demand\n",
    "2. Number of tourists visiting the Stavanger area\n",
    "3. Seasonal fluctuations in demand\n",
    "4. Fuel prices and their impact on operational costs\n",
    "5. Competition from hotels, Airbnb, and potential future campervan rental companies\n",
    "6. Maintenance and repair costs of the campervan fleet\n",
    "7. Customer preferences and trends in travel accommodations"
   ]
  },
  {
   "cell_type": "markdown",
   "metadata": {},
   "source": [
    "## Possible Sources of Data/Information\n",
    "\n",
    "1. Statistics Norway (SSB) website for tourism and economic data\n",
    "2. Visit Norway and Region Stavanger websites for tourism trends and statistics\n",
    "3. Norwegian Meteorological Institute website for historical weather data\n",
    "4. Online research of similar businesses in other regions (financial data, pricing, services)\n",
    "5. Social media analysis (manually reviewing posts and comments on platforms like TripAdvisor, Instagram, and Facebook)\n",
    "6. Government reports on tourism available online\n",
    "7. Online research of campervan costs and specifications from manufacturer websites\n",
    "8. Academic papers on tourism trends and campervan rentals (accessible through university library)"
   ]
  },
  {
   "cell_type": "markdown",
   "metadata": {},
   "source": [
    "## Integration of AI and ML in the DA/DQ Process\n",
    "\n",
    "The integration of AI and ML in the Decision Analysis and Decision Quality process will focus on key areas to enhance the analysis of the campervan rental business opportunity in Stavanger:\n",
    "\n",
    "1. Demand Forecasting: \n",
    "   - Development of a regression model to predict campervan rental demand.\n",
    "   - Utilization of historical tourism data, weather data, and seasonal information as input features.\n",
    "   - The model will output predicted demand for campervan rentals, aiding in the optimization of fleet size and pricing strategies.\n",
    "\n",
    "2. Sentiment Analysis:\n",
    "   - Implementation of natural language processing techniques to analyze customer sentiment.\n",
    "   - Examination of customer reviews and social media comments about campervan rentals and tourism in Stavanger.\n",
    "   - Generation of insights about customer preferences and potential pain points to inform business strategy.\n",
    "\n",
    "3. Decision Tree for Investment Scenarios:\n",
    "   - Creation of a decision tree model to evaluate different investment scenarios.\n",
    "   - Input of various scenarios (e.g., different fleet sizes, pricing strategies) and their estimated outcomes.\n",
    "   - Utilization of the model to identify the most promising investment strategies based on expected returns and risk.\n",
    "\n",
    "4. Customer Segmentation:\n",
    "   - Application of clustering techniques to analyze potential customer groups.\n",
    "   - Use of survey data to identify distinct customer segments based on preferences, budget, and travel habits.\n",
    "   - Utilization of these insights to tailor marketing strategies and service offerings to specific customer groups.\n",
    "\n",
    "5. Monte Carlo Simulation for Risk Assessment:\n",
    "   - Implementation of Monte Carlo simulation techniques to model uncertainties in the business.\n",
    "   - Simulation of various scenarios considering factors like weather variations, demand fluctuations, and operational costs.\n",
    "   - Generation of probability distributions for key business outcomes (e.g., profitability, break-even time) to better understand and quantify risks.\n",
    "\n",
    "These AI and ML integrations will provide valuable insights to enhance the decision-making process. The focus will be on practical applications of these techniques that directly contribute to the analysis of the campervan rental business opportunity in Stavanger, using appropriate software tools and programming languages as needed."
   ]
  }
 ],
 "metadata": {
  "kernelspec": {
   "display_name": "Python 3",
   "language": "python",
   "name": "python3"
  },
  "language_info": {
   "codemirror_mode": {
    "name": "ipython",
    "version": 3
   },
   "file_extension": ".py",
   "mimetype": "text/x-python",
   "name": "python",
   "nbconvert_exporter": "python",
   "pygments_lexer": "ipython3",
   "version": "3.8.5"
  }
 },
 "nbformat": 4,
 "nbformat_minor": 4
}
